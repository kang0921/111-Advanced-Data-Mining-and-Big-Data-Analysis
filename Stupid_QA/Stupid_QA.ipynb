{
  "nbformat": 4,
  "nbformat_minor": 0,
  "metadata": {
    "colab": {
      "provenance": [],
      "collapsed_sections": [
        "8PAhRyhL_jBz",
        "VLaMfyNj-4Um",
        "A4w2uxt2wWPC",
        "FtyibCiPqjAz",
        "Ob2J2_-jtjjs",
        "am3fiK4sO8Nw"
      ]
    },
    "kernelspec": {
      "name": "python3",
      "display_name": "Python 3"
    },
    "language_info": {
      "name": "python"
    }
  },
  "cells": [
    {
      "cell_type": "markdown",
      "source": [
        "## import函式庫並讀取檔案"
      ],
      "metadata": {
        "id": "8PAhRyhL_jBz"
      }
    },
    {
      "cell_type": "code",
      "source": [
        "pip install zhconv"
      ],
      "metadata": {
        "colab": {
          "base_uri": "https://localhost:8080/"
        },
        "id": "B76LaMXWTT_G",
        "outputId": "d2dbafaf-f41f-4f5c-c67e-c518ba1f4364"
      },
      "execution_count": 1,
      "outputs": [
        {
          "output_type": "stream",
          "name": "stdout",
          "text": [
            "Looking in indexes: https://pypi.org/simple, https://us-python.pkg.dev/colab-wheels/public/simple/\n",
            "Collecting zhconv\n",
            "  Downloading zhconv-1.4.3.tar.gz (211 kB)\n",
            "\u001b[K     |████████████████████████████████| 211 kB 5.1 MB/s \n",
            "\u001b[?25hBuilding wheels for collected packages: zhconv\n",
            "  Building wheel for zhconv (setup.py) ... \u001b[?25l\u001b[?25hdone\n",
            "  Created wheel for zhconv: filename=zhconv-1.4.3-py2.py3-none-any.whl size=208852 sha256=443185cd0c5abc8ed7167202074d27cdffafef771e1b4e75b9214a4caa4719d2\n",
            "  Stored in directory: /root/.cache/pip/wheels/c8/11/df/c14a55367e9dc3cf3d605f1335d484797fc01c9d61de740bb3\n",
            "Successfully built zhconv\n",
            "Installing collected packages: zhconv\n",
            "Successfully installed zhconv-1.4.3\n"
          ]
        }
      ]
    },
    {
      "cell_type": "code",
      "execution_count": 2,
      "metadata": {
        "id": "A5TzKUFVmQXF",
        "colab": {
          "base_uri": "https://localhost:8080/"
        },
        "outputId": "e613d3c8-e20b-45e2-9230-4ba19198fced"
      },
      "outputs": [
        {
          "output_type": "stream",
          "name": "stdout",
          "text": [
            "Mounted at /content/drive\n"
          ]
        }
      ],
      "source": [
        "import requests\n",
        "from bs4 import BeautifulSoup\n",
        "from google.colab import drive\n",
        "drive.mount('/content/drive')\n",
        "import pandas as pd\n",
        "import json \n",
        "import time\n",
        "import random\n",
        "import threading\n",
        "from zhconv import convert\n",
        "import re\n",
        "from googlesearch import search\n",
        "\n",
        "# 讀取JSON檔案\n",
        "with open('/content/Stupid_QA_200.json') as f:\n",
        "  data = json.load(f)"
      ]
    },
    {
      "cell_type": "markdown",
      "source": [
        "## 資料預處理\n",
        "將題目中會影響搜尋結果不好的單詞拿掉"
      ],
      "metadata": {
        "id": "VLaMfyNj-4Um"
      }
    },
    {
      "cell_type": "code",
      "source": [
        "def preprocessing(question):\n",
        "  if '下列' in question:\n",
        "    question = question.replace('下列', '')\n",
        "  if '何者' in question:\n",
        "    question = question.replace('何者', '')\n",
        "  if '哪個' in question:\n",
        "    question = question.replace('哪個', '')\n",
        "  if '哪位' in question:\n",
        "    question = question.replace('哪位', '')\n",
        "  if '為' in question:\n",
        "    question = question.replace('為', '')\n",
        "  if '請問' in question:\n",
        "    question = question.replace('請問', '')\n",
        "  if '?' in question:\n",
        "    question = question.replace('?', '')\n",
        "  if '中華民國' in question:\n",
        "    question = question.replace('中華民國', '台灣')\n",
        "  return question"
      ],
      "metadata": {
        "id": "jXkSCHA89R6q"
      },
      "execution_count": 3,
      "outputs": []
    },
    {
      "cell_type": "markdown",
      "source": [
        "## 計算google搜尋網頁中，答案選項分別出現幾次，並回傳出現最多次的選項"
      ],
      "metadata": {
        "id": "b1FGEB5uA-PF"
      }
    },
    {
      "cell_type": "code",
      "source": [
        "def countNum(web_item, question):\n",
        "  \n",
        "  # 題目的選項出現的次數\n",
        "  num_A = 0\n",
        "  num_B = 0\n",
        "  num_C = 0\n",
        "  \n",
        "  # 尋找網頁中出現過幾次題目的選項\n",
        "  for i in web_item:\n",
        "    webText = i.text\n",
        "    num_A += webText.count( question[2] )\n",
        "    num_B += webText.count( question[3] )\n",
        "    num_C += webText.count( question[4] )\n",
        "\n",
        "  # 回傳出現次數最多的答案選項\n",
        "  num_answer = [int(num_A), int(num_B), int(num_C)]\n",
        "\n",
        "  # 如果找不到，將題目的選項轉成簡體字找找看\n",
        "  if max(num_answer) == 0:  \n",
        "    num_answer = translated_Simplified_Chinese(web_item, question)\n",
        "\n",
        "  # 如果找不到，將題目擷取題目的第一句拿去搜尋\n",
        "  # if max(num_answer) == 0:  \n",
        "  #   num_answer = search_again_part(question)\n",
        "    \n",
        "  # 如果最多次就回傳,找不到答案就猜C\n",
        "  if max(num_answer) == num_A:\n",
        "    return \"A\"\n",
        "  elif max(num_answer) == num_B:\n",
        "    return \"B\"\n",
        "  elif max(num_answer) == num_C:\n",
        "    return \"C\"  \n",
        "  else:     \n",
        "    return \"C\""
      ],
      "metadata": {
        "id": "oAiEBMjb_tRF"
      },
      "execution_count": 4,
      "outputs": []
    },
    {
      "cell_type": "code",
      "source": [
        "def translated_Simplified_Chinese(web_item, question):\n",
        "  num_A = 0\n",
        "  num_B = 0\n",
        "  num_C = 0\n",
        "  \n",
        "  for i in web_item:\n",
        "    webText = i.text\n",
        "    num_A += webText.count( convert(question[2], 'zh-hans') )\n",
        "    num_B += webText.count( convert(question[3], 'zh-hans') )\n",
        "    num_C += webText.count( convert(question[4], 'zh-hans') )\n",
        "    \n",
        "  # 回傳出現次數最多的答案選項\n",
        "  num_answer = [int(num_A), int(num_B), int(num_C)]\n",
        "\n",
        "  return num_answer"
      ],
      "metadata": {
        "id": "PfZJYZjXuCXK"
      },
      "execution_count": 5,
      "outputs": []
    },
    {
      "cell_type": "markdown",
      "source": [
        "## 擷取題目的第一句"
      ],
      "metadata": {
        "id": "A4w2uxt2wWPC"
      }
    },
    {
      "cell_type": "code",
      "source": [
        "# def extract_part_of_question(question):\n",
        "#   comma_position = question.find('，')\n",
        "#   return question[:comma_position]"
      ],
      "metadata": {
        "id": "iFtwZsq8wT0u"
      },
      "execution_count": 6,
      "outputs": []
    },
    {
      "cell_type": "code",
      "source": [
        "# def search_again_part(question):\n",
        "    \n",
        "#     question = extract_part_of_question(question[1])\n",
        "#     print(\"search_again_part question = \", question)\n",
        "\n",
        "#     # Google 搜尋 URL\n",
        "#     google_url = 'https://www.google.com.tw/search?q=' + question\n",
        "\n",
        "#     # 反反爬蟲機制，在每次發請求前讓程式暫停一個隨機的秒數，讓請求頻率降低，且間隔不固定也比較不會被認為是爬蟲\n",
        "#     time.sleep(random.uniform(5, 10))\n",
        "\n",
        "#     # 下載 Google 搜尋結果\n",
        "#     searchResult = requests.get(google_url)\n",
        "        \n",
        "#     # 確認是否下載成功\n",
        "#     if searchResult.status_code == requests.codes.ok:\n",
        "\n",
        "#       # 以 BeautifulSoup 解析 HTML 原始碼\n",
        "#       soup = BeautifulSoup(searchResult.text, 'html.parser')\n",
        "\n",
        "#       # 找到HTML中名為.BNeawe的class\n",
        "#       web_item = soup.select('.BNeawe')\n",
        "      \n",
        "#       # 題目的選項出現的次數\n",
        "#       num_A = 0\n",
        "#       num_B = 0\n",
        "#       num_C = 0\n",
        "      \n",
        "#       # 尋找網頁中出現過幾次題目的選項\n",
        "#       for i in web_item:\n",
        "#         webText = i.text\n",
        "#         num_A += webText.count( question[2] )\n",
        "#         num_B += webText.count( question[3] )\n",
        "#         num_C += webText.count( question[4] )\n",
        "#       # 回傳出現次數最多的答案選項\n",
        "#       num_answer = [int(num_A), int(num_B), int(num_C)]\n",
        "\n",
        "#       return num_answer      "
      ],
      "metadata": {
        "id": "Rtg5YGmAvt_y"
      },
      "execution_count": 7,
      "outputs": []
    },
    {
      "cell_type": "markdown",
      "source": [
        "## 答案"
      ],
      "metadata": {
        "id": "FtyibCiPqjAz"
      }
    },
    {
      "cell_type": "code",
      "source": [
        "# 200的正確答案\n",
        "# correct_answer = ['B','A','C','B','A','C','C','C','A','C',\n",
        "#                   'C','A','A','B','C','C','A','C','B','C',\n",
        "#                   'B','C','B','C','C','A','B','A','B','C',\n",
        "#                   'B','C','C','C','B','B','B','C','B','B',\n",
        "#                   'C','C','B','B','B','A','B','A','A','B',\n",
        "#                   'C','B','C','B','C','A','B','B','A','C',\n",
        "#                   'A','A','B','B','A','C','B','C','A','A',\n",
        "#                   'B','A','B','B','C','C','B','A','B','A',\n",
        "#                   'B','B','C','A','C','A','A','B','B','C',\n",
        "#                   'C','A','B','B','C','A','B','A','B','B',\n",
        "#                   'B','C','A','C','B','A','B','C','A','C',\n",
        "#                   'A','A','C','A','A','A','C','B','A','C',\n",
        "#                   'B','C','B','C','B','A','A','C','B','B',\n",
        "#                   'C','A','B','A','A','C','A','C','A','A',\n",
        "#                   'C','A','C','B','A','B','B','A','C','A',\n",
        "#                   'C','C','A','A','A','B','C','A','B','C',\n",
        "#                   'A','A','C','A','C','A','A','B','C','A',\n",
        "#                   'C','B','C','C','B','C','A','A','C','C',\n",
        "#                   'B','C','A','A','B','A','B','B','C','C',\n",
        "#                   'B','B','C','B','B','C','B','A','C','B']"
      ],
      "metadata": {
        "id": "u4dlcwJv_ZmJ"
      },
      "execution_count": 8,
      "outputs": []
    },
    {
      "cell_type": "markdown",
      "source": [
        "## 比較搜尋到的答案和正確答案的差異並計算分數\n",
        "\n"
      ],
      "metadata": {
        "id": "28B0VQk3ET_x"
      }
    },
    {
      "cell_type": "code",
      "source": [
        "def compare_answer(search_answer, correct_answer):\n",
        "\n",
        "  wrong_no = []\n",
        "  # 計算有幾題搜尋結果和正確答案不一樣\n",
        "  wrong_num = 0\n",
        "  for i in range(len(search_answer)):\n",
        "    if search_answer[i][1] != correct_answer[i]:    # 判斷答案是否和正解一樣  \n",
        "      wrong_num += 1                                # 計算有幾題不一樣\n",
        "      wrong_no.append(i)\n",
        "\n",
        "  # 計算分數\n",
        "  score = (len(search_answer)- wrong_num)/len(search_answer) * 100\n",
        "\n",
        "  return wrong_num, score, wrong_no"
      ],
      "metadata": {
        "id": "s_EOEkA97ymc"
      },
      "execution_count": 9,
      "outputs": []
    },
    {
      "cell_type": "markdown",
      "source": [
        "## 爬蟲Google搜尋題目的結果"
      ],
      "metadata": {
        "id": "f2md_b-Y_LNG"
      }
    },
    {
      "cell_type": "code",
      "source": [
        "def search(question, search_answer):\n",
        "\n",
        "    # Google 搜尋 URL\n",
        "    google_url = 'https://www.google.com.tw/search?q=' + question[1]\n",
        "\n",
        "    # 反反爬蟲機制，在每次發請求前讓程式暫停一個隨機的秒數，讓請求頻率降低，且間隔不固定也比較不會被認為是爬蟲\n",
        "    time.sleep(random.uniform(5, 10))\n",
        "\n",
        "    # 下載 Google 搜尋結果\n",
        "    searchResult = requests.get(google_url)\n",
        "    \n",
        "    # print(\"searchResult.status_code = \", searchResult.status_code)\n",
        "    \n",
        "    # 確認是否下載成功\n",
        "    if searchResult.status_code == requests.codes.ok:\n",
        "\n",
        "      # 以 BeautifulSoup 解析 HTML 原始碼\n",
        "      soup = BeautifulSoup(searchResult.text, 'html.parser')\n",
        "\n",
        "      # 找到HTML中名為.BNeawe的class\n",
        "      web_item = soup.select('.BNeawe')\n",
        "\n",
        "      # 將爬蟲結果中出現最多次的答案選項加到答案list裡面\n",
        "      search_answer.append( [question[0], countNum(web_item, question)] )"
      ],
      "metadata": {
        "id": "dIsDr4V28ym1"
      },
      "execution_count": 10,
      "outputs": []
    },
    {
      "cell_type": "markdown",
      "source": [
        "## 取得題目"
      ],
      "metadata": {
        "id": "eSYh7aGgqnk0"
      }
    },
    {
      "cell_type": "code",
      "source": [
        "def access_question(data):\n",
        "  question = []\n",
        "  index = 1\n",
        "  for question_item in data:\n",
        "    question.append([index, preprocessing( question_item['Question']), question_item['A'], question_item['B'], question_item['C']])\n",
        "    index += 1\n",
        "  return question"
      ],
      "metadata": {
        "id": "FJazea1jJ9uw"
      },
      "execution_count": 11,
      "outputs": []
    },
    {
      "cell_type": "markdown",
      "source": [
        "## 主程式"
      ],
      "metadata": {
        "id": "npjU1e64qqHd"
      }
    },
    {
      "cell_type": "code",
      "source": [
        "# 放答案的list\n",
        "search_answer = []\n",
        "\n",
        "# threading的list\n",
        "threads = []\n",
        "\n",
        "# 取得題目\n",
        "question = access_question(data)\n",
        "\n",
        "i = 0\n",
        "for index in question:\n",
        "  # 設定子執行緒並加入要執行的執行緒的list中\n",
        "  threads.append( threading.Thread(target = search, args = (index, search_answer,  )))\n",
        "  # 執行此執行緒\n",
        "  threads[i].start()\n",
        "  i += 1\n",
        "\n",
        "for j in range(len(data)):\n",
        "  # 等待這個執行緒工作完畢\n",
        "  threads[j].join()\n",
        "\n",
        "# 將答案按照題目順序排序好\n",
        "search_answer.sort()\n",
        "\n",
        "res = []\n",
        "# 將答案加到結果的list中(不要題號)\n",
        "for i in search_answer:\n",
        "  res.append(i[1])\n",
        " \n",
        "# 印出答案\n",
        "print(res)"
      ],
      "metadata": {
        "id": "V2lRmifw9MEk",
        "colab": {
          "base_uri": "https://localhost:8080/"
        },
        "outputId": "2ac79883-80cc-4f8c-ae0d-262c2a3a701a"
      },
      "execution_count": 12,
      "outputs": [
        {
          "output_type": "stream",
          "name": "stdout",
          "text": [
            "['C', 'A', 'C', 'B', 'A', 'C', 'A', 'C', 'C', 'C', 'B', 'A', 'A', 'B', 'C', 'A', 'A', 'C', 'B', 'C', 'B', 'C', 'C', 'A', 'C', 'A', 'B', 'A', 'B', 'A', 'B', 'C', 'C', 'C', 'B', 'B', 'B', 'C', 'B', 'B', 'C', 'C', 'B', 'A', 'B', 'A', 'B', 'A', 'A', 'B', 'C', 'B', 'C', 'B', 'C', 'A', 'B', 'B', 'A', 'C', 'A', 'A', 'B', 'B', 'A', 'C', 'B', 'C', 'A', 'C', 'B', 'A', 'B', 'B', 'C', 'C', 'B', 'A', 'B', 'A', 'A', 'A', 'C', 'A', 'C', 'A', 'A', 'B', 'B', 'C', 'C', 'A', 'B', 'B', 'C', 'A', 'B', 'A', 'A', 'B', 'C', 'C', 'A', 'C', 'B', 'A', 'B', 'C', 'A', 'C', 'A', 'C', 'C', 'A', 'A', 'A', 'C', 'B', 'A', 'C', 'B', 'C', 'B', 'C', 'A', 'A', 'A', 'C', 'B', 'B', 'C', 'A', 'B', 'A', 'A', 'C', 'A', 'A', 'A', 'A', 'C', 'A', 'C', 'B', 'A', 'B', 'B', 'A', 'C', 'A', 'C', 'C', 'A', 'A', 'A', 'B', 'C', 'A', 'B', 'C', 'A', 'A', 'C', 'C', 'C', 'A', 'A', 'B', 'C', 'A', 'C', 'B', 'C', 'C', 'B', 'C', 'A', 'A', 'C', 'C', 'B', 'C', 'A', 'A', 'B', 'A', 'B', 'B', 'C', 'C', 'B', 'B', 'C', 'A', 'B', 'C', 'B', 'A', 'C', 'B']\n"
          ]
        }
      ]
    },
    {
      "cell_type": "markdown",
      "source": [
        "## 印出爬蟲結果中出現最多次的答案選項"
      ],
      "metadata": {
        "id": "Ob2J2_-jtjjs"
      }
    },
    {
      "cell_type": "code",
      "source": [
        "# # 錯誤的題數和分數\n",
        "# wrong_num, score, wrong_no = compare_answer(search_answer, correct_answer)\n",
        "# print(\"Wrong_num:\", wrong_num)\n",
        "# print(\"Score:\", score)"
      ],
      "metadata": {
        "id": "TyiFPtowtYsD"
      },
      "execution_count": 13,
      "outputs": []
    },
    {
      "cell_type": "markdown",
      "source": [
        "## 印出第幾題是錯的"
      ],
      "metadata": {
        "id": "am3fiK4sO8Nw"
      }
    },
    {
      "cell_type": "code",
      "source": [
        "# def print_Wrong_No(wrong_no):\n",
        "#   for no in wrong_no:                 # 遍歷錯的題號的list\n",
        "#     for i in range(len(question)):    # 遍歷所有題目\n",
        "#       if int(no) == int(i):           # 看題目有沒有出現在錯的題號的list\n",
        "#         print(\"第\", no+1, \"題:\", question[i][1]) # 印出答案錯誤的題目\n",
        "#         print(\" A\", question[i][2])   # 印出答案錯誤的答案\n",
        "#         print(\" B\", question[i][3])   # 印出答案錯誤的答案\n",
        "#         print(\" C\", question[i][4])   # 印出答案錯誤的答案"
      ],
      "metadata": {
        "id": "8joagNpEJUEF"
      },
      "execution_count": 14,
      "outputs": []
    },
    {
      "cell_type": "code",
      "source": [
        "# 印出第幾題是錯的\n",
        "# print_Wrong_No(wrong_no)"
      ],
      "metadata": {
        "id": "Vk0lrNPQPvCB"
      },
      "execution_count": 15,
      "outputs": []
    }
  ]
}